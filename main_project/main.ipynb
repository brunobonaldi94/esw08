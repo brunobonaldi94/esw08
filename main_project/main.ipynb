{
 "cells": [
  {
   "cell_type": "code",
   "execution_count": null,
   "metadata": {},
   "outputs": [],
   "source": [
    "import pandas as pd\n",
    "import seaborn as sns\n",
    "import matplotlib.pyplot as plt\n",
    "import os\n",
    "%matplotlib inline"
   ]
  },
  {
   "cell_type": "code",
   "execution_count": 7,
   "metadata": {},
   "outputs": [],
   "source": [
    "def get_file_names(directory: str) -> list[str]:\n",
    "    \"\"\"Get all CSV file names in the specified directory.\"\"\"\n",
    "    return [f for f in os.listdir(directory) if f.endswith('.csv')]\n",
    "\n",
    "def load_dataframes(directory: str) -> pd.DataFrame:\n",
    "    \"\"\"Load all CSV files from the specified directory into a single DataFrame.\"\"\"\n",
    "    file_names = get_file_names(directory)\n",
    "    dataframes = pd.DataFrame()\n",
    "    for file_name in file_names:\n",
    "        df = pd.read_csv(os.path.join(directory, file_name), sep=';', low_memory=True)\n",
    "        dataframes = pd.concat([dataframes, df], ignore_index=True)\n",
    "    return dataframes"
   ]
  },
  {
   "cell_type": "code",
   "execution_count": null,
   "metadata": {},
   "outputs": [],
   "source": [
    "# Load the dataset\n",
    "cur_df = load_dataframes('data')"
   ]
  }
 ],
 "metadata": {
  "kernelspec": {
   "display_name": ".venv",
   "language": "python",
   "name": "python3"
  },
  "language_info": {
   "codemirror_mode": {
    "name": "ipython",
    "version": 3
   },
   "file_extension": ".py",
   "mimetype": "text/x-python",
   "name": "python",
   "nbconvert_exporter": "python",
   "pygments_lexer": "ipython3",
   "version": "3.13.3"
  }
 },
 "nbformat": 4,
 "nbformat_minor": 2
}
